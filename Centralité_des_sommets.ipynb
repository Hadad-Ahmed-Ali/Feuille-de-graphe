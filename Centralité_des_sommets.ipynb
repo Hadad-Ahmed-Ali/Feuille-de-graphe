{
 "cells": [
  {
   "cell_type": "markdown",
   "id": "9f18ab44",
   "metadata": {},
   "source": [
    " # Analyse de la centralité des noeuds"
   ]
  },
  {
   "cell_type": "markdown",
   "id": "f7ad4f9b",
   "metadata": {},
   "source": [
    "On veut faire un programme qui étant donné un graphe retourne une analyse de la centralité des sommets du graphe en termes de degré, d'eccentricité, de centralité de proximité et de centralité d'intermédiarité."
   ]
  },
  {
   "cell_type": "markdown",
   "id": "32eb49f0",
   "metadata": {},
   "source": [
    "Un script centralite.py qui accepte des arguments.\n",
    "Notre programme prendra en entrée un fichier CSV contenant les listes d'adjacences définissant un graphe.\n",
    "Notre programme devra afficher les n(=5 par defaut) sommets les plus centraux suivant les critères suivant:\n",
    "\n",
    "      \n",
    "    * les plus haut degrés\n",
    "    * les plus petites excentricités\n",
    "    * les plus grandes centralité de proximité\n",
    "    * les plus grandes centralité d'intemédiarité\n",
    "    \n",
    "Notre programme devra également créer des fichiers: \n",
    "    \n",
    "    * degres.csv\n",
    "    * excentricites.csv\n",
    "    * cproximites.csv \n",
    "    * intermediarites.csv\n",
    "avec les statistiques correspondantes pour chacun des sommets, triés du plus central au moins central et par ordre lexicographique.\n"
   ]
  },
  {
   "cell_type": "markdown",
   "id": "1ed9d4fb",
   "metadata": {},
   "source": [
    "# Plan\n",
    "     I- Création du script\n",
    "     II- Algorithme de récupération des fichier csv\n",
    "     III- Algorithmes de mesure de la centralité\n",
    "         1) Degrés des chaque neouds du graphes\n",
    "         2)\n",
    "         3)\n",
    "         4)\n",
    "     IV- Création des fichier csv\n",
    "     V-  La sortie du scripte\n",
    "            "
   ]
  },
  {
   "cell_type": "markdown",
   "id": "d5ac1e5f",
   "metadata": {},
   "source": [
    "# Noté bien:\n",
    "Tous les implémentations ci-dessous doivent être mise dans un même bloc de code pas des différentes bloque comme je le fais. J'ai repartie les implémentation en bloc pour explicité les différentes partie et travail abordés tout au long du travail. Après ça, téléchargé le fichier en extension **.py** et vous pouvez l’utiliser en l’appelant le scripte sur un terminal suivit d'un fichier csv qui définit le graphe qu'on veut étudier."
   ]
  },
  {
   "cell_type": "markdown",
   "id": "b17c45c1",
   "metadata": {},
   "source": [
    "# I- Creation du script"
   ]
  },
  {
   "cell_type": "code",
   "execution_count": null,
   "id": "89561c6b",
   "metadata": {},
   "outputs": [],
   "source": [
    "import argparse # pour pouvoir passer des arguments au script \n",
    "import csv\n",
    "# Une description de ce que fait le script\n",
    "parser = argparse.ArgumentParser(description='Affiche la chaîne de caractères' \n",
    "                                 +' passée en argument N fois'+'passée en argument N fois')\n",
    "\n",
    "# Un argument obligatoire\n",
    "#------- Le programme prend en entré un fichier csv (==filename) de type str == chaine , obligatoire\n",
    "#------- contenant les listes d'adjacences définissant un graphe             ------\n",
    "\n",
    "parser.add_argument('filename', metavar='c', type=str, nargs='?',\n",
    "                    help='la chaine de caractères')\n",
    "\n",
    "#-----cette ligne permet d'afficher les n noeuds (-Nn) passer en arguments, par defaut il affiche 5 noeuds (-N)\n",
    "parser.add_argument('-N', dest='n', action='store', default=5, type=int,\n",
    "                    help=\"nombres d'affichages de la chaîne (5 par defaut)\")\n",
    "\n",
    "# Lecture des arguments passés en paramètres\n",
    "args = parser.parse_args()\n",
    "\n",
    "# On affecte le fichier csv, qui sera passer en entré, par filename:\n",
    "filename=args.filename"
   ]
  },
  {
   "cell_type": "markdown",
   "id": "4b4c80e0",
   "metadata": {},
   "source": [
    "# II- Algorithme de récupération des fichier csv\n",
    "      Implémenter une fonction qui prendra en entré un fichier csv définissant un graphe.\n",
    "      Cette fonction doit faire en sorte que le graphe soit un graphe non-dirigé quelque\n",
    "      la nature du graphe."
   ]
  },
  {
   "cell_type": "markdown",
   "id": "762a74b5",
   "metadata": {},
   "source": [
    "Pour le fiche csv donné en entré (obligatoire), on a la fonction qui prend les nœuds et les liste d'adjacence, et les met dans dictionnaire  dont les clé sont les nœuds concernés et les valeurs sont les liste adjacence des clé respectif."
   ]
  },
  {
   "cell_type": "code",
   "execution_count": null,
   "id": "8e22ebb5",
   "metadata": {},
   "outputs": [],
   "source": [
    "def recuperer_liste_adjacence(f):\n",
    "    dictio=dict()\n",
    "    with open(f, 'r') as file:\n",
    "        reader = csv.reader(file)\n",
    "        for ligne in reader:\n",
    "            # premiere collonne qui contient les noeuds\n",
    "            noeud = ligne[0]   \n",
    "            # toute les collones apres la premiere qui sont les listes des adjacences\n",
    "            list_adjacence = ligne[1:] \n",
    "            # stocker les ligne (les adjacent) comme valeur de la clé noeud\n",
    "            dictio[noeud]=list_adjacence\n",
    "            \n",
    "    # On va s'assurer que les connexion entre les arret sont assurer deux fois, \n",
    "    # C'est à dire qu'on considere toute graphe comme non-dirigé\n",
    "    les_clé=list(dictio.keys()) \n",
    "    for noeud in les_clé:\n",
    "        for point in dictio[noeud]:\n",
    "            if point not in dictio.keys():\n",
    "                dictio[point]=list()\n",
    "                dictio[point].append(noeud)\n",
    "            if noeud not in dictio[point]:\n",
    "                dictio[point].append(noeud) \n",
    "                \n",
    "    return dictio"
   ]
  },
  {
   "cell_type": "markdown",
   "id": "e9974023",
   "metadata": {},
   "source": [
    "On applique la fonction avec le fichier csv affecté à filename.\n",
    "Donc **liste_adj** est un dictionnaire portant les nœuds (clés) et listes des adjacences (valeurs). Rappelons que **filename** est le fichier csv mise entré dans le script."
   ]
  },
  {
   "cell_type": "code",
   "execution_count": null,
   "id": "d69ae580",
   "metadata": {},
   "outputs": [],
   "source": [
    "liste_adj=recuperer_liste_adjacence(filename)"
   ]
  },
  {
   "cell_type": "markdown",
   "id": "b4ab64ca",
   "metadata": {},
   "source": [
    "# III- Algorithmes de mesure de la centralité\n",
    "      1) Degres des chaque neouds du graphe"
   ]
  },
  {
   "cell_type": "markdown",
   "id": "e1931a9a",
   "metadata": {},
   "source": [
    "On veut formé un dictionnaire dont les valeurs sont les degres de chaque sommet et les cles sont les sommets respectifs.\n",
    "La fonction suivante, calculate_degrees, prend comme arguments le dictionnaire des listes d'adjacent et retourne le \n",
    "degre de chaque nœuds sous forme d'un dictionnaire.\n",
    "\n",
    "      le degré d'un nœud (clé du dictionnaire) est égale au nombre d'arets\n",
    "      qui lui est lié donc c'est la longueur de la liste sa valeur dans le dictionnaire."
   ]
  },
  {
   "cell_type": "code",
   "execution_count": null,
   "id": "19f09acc",
   "metadata": {},
   "outputs": [],
   "source": [
    "def calculate_degrees(s):\n",
    "    #-- le degré d'un noeud (clé du dictio) est egale au nombre d'arret-----\n",
    "    #--- qui lui est lié donc c'est la longueur de la liste sa valeur dans la dictionnaire -----\n",
    "    degrees = {noeud: len(list_adjacence) for noeud, list_adjacence in s.items()}\n",
    "\n",
    "    return degrees\n",
    "\n",
    "\n",
    "D=calculate_degrees(liste_adj)"
   ]
  },
  {
   "cell_type": "markdown",
   "id": "814a54ce",
   "metadata": {},
   "source": [
    "La fonction qui donne les sommets les plus centraux selon le critère du plus haut degrés."
   ]
  },
  {
   "cell_type": "code",
   "execution_count": null,
   "id": "484e93b4",
   "metadata": {},
   "outputs": [],
   "source": [
    "def plus_haut_degrés(degre_dictio):\n",
    "    sorted_keys = sorted(degre_dictio.keys(), key=lambda k: (-degre_dictio[k], k))\n",
    "    degr = {}\n",
    "    for key in sorted_keys:\n",
    "        degr[key] = degre_dictio[key]\n",
    "    return degr\n",
    "\n",
    "plus_haut_degrés(calculate_degrees(liste_adj))"
   ]
  },
  {
   "cell_type": "markdown",
   "id": "089f89a8",
   "metadata": {},
   "source": [
    "      2)  Excentricités de chaque sommets\n",
    "L' **excentricités** d'un sommet est la plus petite distance entre le sommet et tout les autres sommets.\n",
    "On commence par implement un algorithme qui calcule pour un sommet donné, elle calcule la distance entre ce sommet et tout les autre sommets:"
   ]
  },
  {
   "cell_type": "code",
   "execution_count": null,
   "id": "bce9471e",
   "metadata": {},
   "outputs": [],
   "source": [
    "def Distance_BFS(graph, point_depart):\n",
    "    \n",
    "    # on a initialise le dictionnaire des distances a None cela veut dire que la distance est pas encore verifie\n",
    "    distances = {noeud: None for noeud in graph} \n",
    "    \n",
    "    # Nous considerons tous les sommets dans une liste d'attente dont le 1er est le sommet de depart\n",
    "    # Chaque fois qu'une sommet est visité, il sort de la liste d'attente\n",
    "     \n",
    "    distances[point_depart] = 0            # on inisialise noeuds de depart a 0 car sa distance de lui meme c'est 0\n",
    "    list_attente = [point_depart]          # on ajoute le point visité a la liste d'attente \n",
    "    while list_attente:                    # tanq que la liste d'attente n'est pas vide \n",
    "        element = list_attente.pop(0)      # alors defile le premier element de la liste \n",
    "        for voisin in graph[element]:      # on parcours la liste des adjacent du Noeuds defilé\n",
    "            if distances[voisin] == None:  # si la distance est pas encore verifié  \n",
    "                distances[voisin] = distances[element] + 1  # alors affecte 1 \n",
    "                list_attente.append(voisin)  # et a la fin on ajoute a laliste d'attente le noeuds visité pour qu'on  \n",
    "                                             # applique le meme algorithme sur les noeuds suivant\n",
    "\n",
    "    return distances                        # finalement retourne la distance entre le noeuds de depart pris en\n",
    "                                            # arguments a tous les autres Noeuds."
   ]
  },
  {
   "cell_type": "markdown",
   "id": "cbe149b4",
   "metadata": {},
   "source": [
    "On va calcul les distance de chaque point du graphe à tous les autres du graphe en faisant appel à l'algo Distance_BFS précédent.\n",
    "En gros cette fonction nous donne un dictionnaire dont les valeurs sont des dictionnaire portant comme clé \n",
    "Les autres nœuds et comme valeurs la distance avec la clé du dictionnaire d'origine."
   ]
  },
  {
   "cell_type": "code",
   "execution_count": null,
   "id": "75e35fe9",
   "metadata": {},
   "outputs": [],
   "source": [
    "def calculate_all_distances(graph):\n",
    "    distances = {}\n",
    "    for noeud in graph.keys():\n",
    "        \n",
    "        # On parcourt les sommets, et chaque sommet donné par la boucle, \n",
    "        # on l'applique à l'algorithme Distance_BFS comme noeud de depart.\n",
    "        distances[noeud] = Distance_BFS(graph,noeud )\n",
    "\n",
    "    #---On returne un dictionnaire portant comme clé chaque noeud et comme \n",
    "    #---valeurs un dictionnaire portant les sommets et la distance ce sommet et le clé (sommet) respectif.\n",
    "    return distances\n",
    "\n",
    "bfs_distance=calculate_all_distances(liste_adj)"
   ]
  },
  {
   "cell_type": "markdown",
   "id": "a0658b56",
   "metadata": {},
   "source": [
    "Jusqu'à la, on a calculé pour chaque sommet, sa distance à tous les autres sommets.\n",
    "On calcule les excentricités des sommets: A partir du dictionnaire donné avant **bfs_distance**, on parcourt les valeurs et on cherche la valeur maximal car l'**excentricité** d'un sommet est la **distance maximal** entre le sommet et tout les autre sommets."
   ]
  },
  {
   "cell_type": "code",
   "execution_count": null,
   "id": "7508fb68",
   "metadata": {},
   "outputs": [],
   "source": [
    "def calcul_excentricités(graph):\n",
    "    dictio=dict()\n",
    "    for cle, val_distances in graph.items():\n",
    "        l=list()\n",
    "        for distance in val_distances.values():\n",
    "            l.append(distance)\n",
    "        dictio[cle]=max(l)\n",
    "    return dictio\n",
    "\n",
    "#----Jusqu'à là, calcul_excentricités prend le dictionnaire ayant comme clés les noeuds et comme valeurs \n",
    "#----les excentricités respectifs   ------\n",
    "\n",
    "excentricités=calcul_excentricités(bfs_distance)"
   ]
  },
  {
   "cell_type": "markdown",
   "id": "9f183f0b",
   "metadata": {},
   "source": [
    "La fonction qui donne les sommets les plus centraux selon le critère du plus petit excentricité."
   ]
  },
  {
   "cell_type": "code",
   "execution_count": null,
   "id": "bcfef9fd",
   "metadata": {},
   "outputs": [],
   "source": [
    "def plus_petites_excentricités(excentricite_dictio):\n",
    "    sorted_keys = sorted(excentricite_dictio.keys(), key=lambda k: (excentricite_dictio[k], k))\n",
    "    excentrite = {}\n",
    "    for key in sorted_keys:\n",
    "        excentrite[key] = excentricite_dictio[key]\n",
    "    return excentrite\n",
    "\n",
    "plus_petites_excentricités(excentricités)"
   ]
  },
  {
   "cell_type": "markdown",
   "id": "326888c1",
   "metadata": {},
   "source": [
    "     3) Centralité de proximité\n",
    "     \n",
    "La **centralité de proximité** mesure à quel point un sommet X est connecté aux autres sommets. Plus un sommet à des voisins proches plus il est considéré comme un **point central** en terme de **centralité de proximité**.\n",
    "\n",
    "Cette fonction s'appuie sur la fonction **calculate_all_distances()**, définie avant, pour calculer les **centralités de proximités**."
   ]
  },
  {
   "cell_type": "code",
   "execution_count": null,
   "id": "2d49a0c0",
   "metadata": {},
   "outputs": [],
   "source": [
    "def calculate_centralité_proximité(graph,n):\n",
    "    dictio=dict()\n",
    "    # on parcoure le dictionnaire qui contient les distantes de chaque noeuds aux autre Noeuds\n",
    "    for cle, val_distances in graph.items(): \n",
    "        # creation d'une liste pour la remplir les distance, au fur et à mesure\n",
    "        l=list()                             \n",
    "        for distance in val_distances.values():  \n",
    "            # on ajoute a la liste l les distances du noeuds parcouru en haut (cle) aux autres   \n",
    "            l.append(distance)  \n",
    "        # quand on ajoute toute les distances a liste l o essaye de retouner le maximum pour calculer la centralite proximité                \n",
    "        dictio[cle] = ((n-1) / sum(l))  \n",
    "\n",
    "     # et finalement on retourne dictionnaire dont les cle sont les noeuds et les valeurs sont la centralite proximité respectifs\n",
    "    return dictio                        \n",
    "\n",
    "centralité_proximité=calculate_centralité_proximité(bfs_distance,longeur_graphe(liste_adj))"
   ]
  },
  {
   "cell_type": "markdown",
   "id": "7daf2ab3",
   "metadata": {},
   "source": [
    "La fonction qui donne les sommets les **plus centraux** selon le critère de la **plus grandes centralité de proximité**."
   ]
  },
  {
   "cell_type": "code",
   "execution_count": null,
   "id": "1eae402d",
   "metadata": {},
   "outputs": [],
   "source": [
    "def plus_grandes_centralité_proximité(central):\n",
    "    sorted_keys = sorted(centralité_proximité.keys(), key=lambda k: (-centralité_proximité[k], k))\n",
    "    proximité = {}\n",
    "    for key in sorted_keys:\n",
    "        proximité[key] = centralité_proximité[key]\n",
    "\n",
    "    return proximité\n",
    "\n",
    "cproximité=plus_grandes_centralité_proximité(centralité_proximité)"
   ]
  },
  {
   "cell_type": "markdown",
   "id": "16395d7a",
   "metadata": {},
   "source": [
    "       4) Centralité d'intemédiarité\n",
    "       \n",
    "La **centralité d'intemédiarité** mesure la capacité d'un sommet X a être un point passager obligatoire entre les autres points. Plus un sommet est impliqué dans des nombreuse chemins plus il est considéré comme un point central en terme de **centralité d'intemédiarité**."
   ]
  },
  {
   "cell_type": "markdown",
   "id": "403bbff5",
   "metadata": {},
   "source": [
    "On a besoin de la fonction **Distance_BFS** avant mais rajoutée d'une troisième argument qui jouera un rôle important pour la calcule des centralité d'intemédiarité:"
   ]
  },
  {
   "cell_type": "code",
   "execution_count": null,
   "id": "f116bc2b",
   "metadata": {},
   "outputs": [],
   "source": [
    "from collections import defaultdict\n",
    " \n",
    "def Distance_BFS2(graph, point_depart, argument):\n",
    "    #--- Ne vous pose pas de question de cette fonction, c'est juste la mem avec la fonction Distance_BFS \n",
    "    #---- precedent sauf qu'on rajoute un 3eme argument argument qui sear utile pour la focntion qui suive -----\n",
    "    distances = {noeud: None for noeud in graph}\n",
    "    distances[point_depart] = 0\n",
    "    list_attente = [point_depart]\n",
    "    while list_attente:\n",
    "        element = list_attente.pop(0)\n",
    "        for voisin in graph[element]:\n",
    "            if distances[voisin] == None:\n",
    "                distances[voisin] = distances[element] + 1\n",
    "                list_attente.append(voisin)\n",
    "\n",
    "    return distances \n",
    "\n",
    "def Centralité_intermediaire(graph):\n",
    "    # Initialise le dictionnaire des centralités intermediare avec la valeur par défaut 0\n",
    "    Centralité = defaultdict(lambda: 0)\n",
    "    # On boucle sur tous les nœuds du graphique\n",
    "    for point_depart in graph.keys():\n",
    "        # Initialiser le dictionnaire des distances avec les distances depuis le nœud de départ\n",
    "        distances = Distance_BFS2(graph, point_depart, None)\n",
    "        # On boucle sur tous les nœuds du graphe\n",
    "        for cle in graph.keys():\n",
    "            # On boucle sur tous les nœuds du graphe\n",
    "            for noeud in graph.keys():\n",
    "                # Si la distance du nœud de départ au nœud est égale à la distance du nœud de départ\n",
    "                # au nœud de fin moins 1 et la distance du nœud au nœud final est égale à la distance \n",
    "                # du nœud de départ au nœud final moins la distance du nœud de départ au nœud \n",
    "                # incrémenter la centralité du nœud de 1\n",
    "                if distances[noeud] == distances[cle] - 1 and \n",
    "                         distances[cle] - distances[noeud] == Distance_BFS2(graph, noeud, cle)[cle]:\n",
    "                    Centralité[noeud] += 1\n",
    "                    \n",
    "    # On diviser, et mettre à jour les valeurs, les centralités par 2 pour tenir compte du double comptage\n",
    "    for noeud in Centralité.keys():\n",
    "        Centralité[noeud] /= 2\n",
    "    \n",
    "    return Centralité\n",
    " \n",
    "\n",
    "intermediarité=Centralité_intermediaire(liste_adj)"
   ]
  },
  {
   "cell_type": "markdown",
   "id": "64f8c6fd",
   "metadata": {},
   "source": [
    "La fonction qui donne les sommets les **plus centraux** selon la **plus grande centralité d'intemédiarité**:"
   ]
  },
  {
   "cell_type": "code",
   "execution_count": null,
   "id": "d895db85",
   "metadata": {},
   "outputs": [],
   "source": [
    "def plus_haut_intermediarités(interm):\n",
    "    sorted_keys = sorted(interm.keys(), key=lambda k: (-interm[k], k))\n",
    "    intemédiarité = {}\n",
    "    for key in sorted_keys:\n",
    "        intemédiarité[key] = interm[key]\n",
    "    return intemédiarité\n",
    "\n",
    "Intermedia=plus_haut_intermediarités(intermediarité)"
   ]
  },
  {
   "cell_type": "markdown",
   "id": "f659f38c",
   "metadata": {},
   "source": [
    "# IV- Création des fichier csv\n",
    "On va stocker les sommets dans un fichier csv, par trie du plus central au moins central et par ordre lexicographique à partir des différentes fonctions définies avant:"
   ]
  },
  {
   "cell_type": "code",
   "execution_count": null,
   "id": "14fba5e4",
   "metadata": {},
   "outputs": [],
   "source": [
    "def stocker_graph(filenames, liste_adjacence):\n",
    "    with open(filenames, 'w', newline='') as file:\n",
    "        writer = csv.writer(file)\n",
    "        for noeud, list_adjacence in liste_adjacence.items():\n",
    "            row = [noeud] + [list_adjacence]\n",
    "            writer.writerow(row)\n",
    "\n",
    "\n",
    "#----Pour le fichier degres.csv, on a:---\n",
    "stocker_graph(\"degres.csv\",plus_haut_degrés(calculate_degrees(liste_adj)))\n",
    "\n",
    "#----Pour le fichier excentricites.csv, on a:---\n",
    "stocker_graph(\"excentricites.csv\",plus_petites_excentricités(excentricités))\n",
    "\n",
    "#----Pour le fichier cproximites.csv, on a: ----\n",
    "stocker_graph(\"cproximites.csv\",cproximité)\n",
    "\n",
    "#----Pour le fichier intermediarité.csv, on a:---\n",
    "stocker_graph(\"intermediarité.csv\",Intermedia)"
   ]
  },
  {
   "cell_type": "markdown",
   "id": "af070308",
   "metadata": {},
   "source": [
    " # V-  La sortie du scripte"
   ]
  },
  {
   "cell_type": "markdown",
   "id": "aacef820",
   "metadata": {},
   "source": [
    "Recuperons d'abord nos fichier CSV:"
   ]
  },
  {
   "cell_type": "code",
   "execution_count": null,
   "id": "03eb7399",
   "metadata": {},
   "outputs": [],
   "source": [
    "def recuperer_liste_adjacence(filename):\n",
    "    noeud=list()\n",
    "    with open(filename, 'r') as file:\n",
    "        reader = csv.reader(file)\n",
    "        for ligne in reader:\n",
    "            noeud.append(ligne[0]) \n",
    "        return noeud\n",
    "    \n",
    "\n",
    "fichier_degre=recuperer_liste_adjacence(\"degres.csv\")\n",
    "fichier_excentricités=recuperer_liste_adjacence(\"excentricites.csv\")\n",
    "fichier_proximité=recuperer_liste_adjacence(\"cproximites.csv\")\n",
    "fichier_intermediaire=recuperer_liste_adjacence(\"intermediarité.csv\")"
   ]
  },
  {
   "cell_type": "markdown",
   "id": "3a50b8f2",
   "metadata": {},
   "source": [
    "Affichage des n(=5 par defaut) sommets les plus centraux, selon les différents critères définies dans les algorithmes précédents:"
   ]
  },
  {
   "cell_type": "code",
   "execution_count": null,
   "id": "8258be36",
   "metadata": {},
   "outputs": [],
   "source": [
    "def affichage(Noeuds, n):\n",
    "    for j in Noeuds[:n]:\n",
    "        print(j)\n",
    "\n",
    "\n",
    "print(\"Les \",args.n,\" noeuds les plus centraux selons le critere du plus haut degres sont:\")\n",
    "affichage(fichier_degre, args.n)\n",
    "\n",
    "print(\"Les\",args.n,\" noeuds les plus centraux selons le critere du plus petites excentricités sont:\")\n",
    "affichage(fichier_excentricités, args.n)\n",
    "\n",
    "\n",
    "print(\"Les \",args.n,\" noeuds les plus centraux selons le critere du plus grandes centralité de proximité sont:\")\n",
    "affichage(fichier_proximité, args.n)\n",
    "\n",
    "print(\"Les \",args.n,\" noeuds les plus centraux selons le critere du plus grande centralité d'intemédiarité sont:\")\n",
    "affichage(fichier_intermediaire, args.n)"
   ]
  }
 ],
 "metadata": {
  "kernelspec": {
   "display_name": "Python 3 (ipykernel)",
   "language": "python",
   "name": "python3"
  },
  "language_info": {
   "codemirror_mode": {
    "name": "ipython",
    "version": 3
   },
   "file_extension": ".py",
   "mimetype": "text/x-python",
   "name": "python",
   "nbconvert_exporter": "python",
   "pygments_lexer": "ipython3",
   "version": "3.9.13"
  }
 },
 "nbformat": 4,
 "nbformat_minor": 5
}
